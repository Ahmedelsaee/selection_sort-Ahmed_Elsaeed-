{
  "nbformat": 4,
  "nbformat_minor": 0,
  "metadata": {
    "colab": {
      "provenance": []
    },
    "kernelspec": {
      "name": "python3",
      "display_name": "Python 3"
    },
    "language_info": {
      "name": "python"
    }
  },
  "cells": [
    {
      "cell_type": "code",
      "source": [
        "def selectionSort(arr, n):\n",
        "\n",
        "    for i in range(n):\n",
        "        min = i\n",
        "        for j in range(i + 1, n):\n",
        "            # select the minimum element\n",
        "            if arr[j] < arr[min]:\n",
        "                min = j\n",
        "         # swapping\n",
        "        (arr[i], arr[min]) = (arr[min], arr[i])\n",
        "\n",
        "arr=[60,40,50,30,10,20]\n",
        "n = len(arr)\n",
        "selectionSort(arr, n)\n",
        "print('The array after sorting is:',arr)\n",
        "\n",
        "\n"
      ],
      "metadata": {
        "colab": {
          "base_uri": "https://localhost:8080/"
        },
        "id": "T7ZglDn36mBy",
        "outputId": "6bafdb6e-1e36-4f1e-9c2d-ad2df31f8455"
      },
      "execution_count": 34,
      "outputs": [
        {
          "output_type": "stream",
          "name": "stdout",
          "text": [
            "The array after sorting is: [10, 20, 30, 40, 50, 60]\n"
          ]
        }
      ]
    }
  ]
}